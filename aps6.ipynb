{
 "cells": [
  {
   "cell_type": "markdown",
   "metadata": {},
   "source": [
    "APS 6 - CIÊNCIA DE DADOS\n",
    "\n",
    "Média de gols marcados pelo Real Madrid anos 2017 e 2018 (vencedor da Champions League) X Real Madrid anos 2019 e 2020 (não venceu a Champions League)"
   ]
  },
  {
   "cell_type": "code",
   "execution_count": 65,
   "metadata": {},
   "outputs": [],
   "source": [
    "import pandas as pd\n",
    "import scipy.stats as st\n",
    "import numpy as np\n",
    "import matplotlib.pyplot as plt"
   ]
  },
  {
   "cell_type": "code",
   "execution_count": 66,
   "metadata": {},
   "outputs": [],
   "source": [
    "df = pd.read_csv('dados/Data.csv')\n"
   ]
  },
  {
   "cell_type": "code",
   "execution_count": 67,
   "metadata": {},
   "outputs": [
    {
     "data": {
      "text/html": [
       "<div>\n",
       "<style scoped>\n",
       "    .dataframe tbody tr th:only-of-type {\n",
       "        vertical-align: middle;\n",
       "    }\n",
       "\n",
       "    .dataframe tbody tr th {\n",
       "        vertical-align: top;\n",
       "    }\n",
       "\n",
       "    .dataframe thead th {\n",
       "        text-align: right;\n",
       "    }\n",
       "</style>\n",
       "<table border=\"1\" class=\"dataframe\">\n",
       "  <thead>\n",
       "    <tr style=\"text-align: right;\">\n",
       "      <th></th>\n",
       "      <th>Match Gap</th>\n",
       "      <th>Month</th>\n",
       "      <th>Date</th>\n",
       "      <th>Date_Converted</th>\n",
       "      <th>MathType</th>\n",
       "      <th>Season</th>\n",
       "      <th>HomeAway</th>\n",
       "      <th>Team_Name</th>\n",
       "      <th>Team</th>\n",
       "      <th>TeamRanking</th>\n",
       "      <th>...</th>\n",
       "      <th>GetGoal</th>\n",
       "      <th>Results</th>\n",
       "      <th>PreScoreGoal</th>\n",
       "      <th>PrePreScoreGoal</th>\n",
       "      <th>PreGetGoal</th>\n",
       "      <th>PrePreGetGoal</th>\n",
       "      <th>Ramos_Position</th>\n",
       "      <th>RamosTime</th>\n",
       "      <th>RamosGoal</th>\n",
       "      <th>RamosAss</th>\n",
       "    </tr>\n",
       "  </thead>\n",
       "  <tbody>\n",
       "    <tr>\n",
       "      <th>0</th>\n",
       "      <td>-</td>\n",
       "      <td>9</td>\n",
       "      <td>2005. 9. 10</td>\n",
       "      <td>Sep 10, 2005</td>\n",
       "      <td>1</td>\n",
       "      <td>05/06</td>\n",
       "      <td>0</td>\n",
       "      <td>Celta de Vigo</td>\n",
       "      <td>20</td>\n",
       "      <td>2</td>\n",
       "      <td>...</td>\n",
       "      <td>3.0</td>\n",
       "      <td>2.0</td>\n",
       "      <td>NaN</td>\n",
       "      <td>NaN</td>\n",
       "      <td>NaN</td>\n",
       "      <td>NaN</td>\n",
       "      <td>NaN</td>\n",
       "      <td>NaN</td>\n",
       "      <td>NaN</td>\n",
       "      <td>NaN</td>\n",
       "    </tr>\n",
       "    <tr>\n",
       "      <th>1</th>\n",
       "      <td>3</td>\n",
       "      <td>9</td>\n",
       "      <td>2005. 9. 13</td>\n",
       "      <td>Sep 13, 2005</td>\n",
       "      <td>0</td>\n",
       "      <td>05/06</td>\n",
       "      <td>1</td>\n",
       "      <td>Olympique Lyon</td>\n",
       "      <td>54</td>\n",
       "      <td>0</td>\n",
       "      <td>...</td>\n",
       "      <td>3.0</td>\n",
       "      <td>2.0</td>\n",
       "      <td>NaN</td>\n",
       "      <td>NaN</td>\n",
       "      <td>NaN</td>\n",
       "      <td>NaN</td>\n",
       "      <td>CB</td>\n",
       "      <td>NaN</td>\n",
       "      <td>NaN</td>\n",
       "      <td>NaN</td>\n",
       "    </tr>\n",
       "    <tr>\n",
       "      <th>2</th>\n",
       "      <td>5</td>\n",
       "      <td>9</td>\n",
       "      <td>2005. 9. 18</td>\n",
       "      <td>Sep 18, 2005</td>\n",
       "      <td>1</td>\n",
       "      <td>05/06</td>\n",
       "      <td>1</td>\n",
       "      <td>RCD Espanyol Barcelona</td>\n",
       "      <td>60</td>\n",
       "      <td>12</td>\n",
       "      <td>...</td>\n",
       "      <td>1.0</td>\n",
       "      <td>2.0</td>\n",
       "      <td>0.0</td>\n",
       "      <td>2.0</td>\n",
       "      <td>3.0</td>\n",
       "      <td>3.0</td>\n",
       "      <td>CB</td>\n",
       "      <td>90.0</td>\n",
       "      <td>0.0</td>\n",
       "      <td>0.0</td>\n",
       "    </tr>\n",
       "    <tr>\n",
       "      <th>3</th>\n",
       "      <td>4</td>\n",
       "      <td>9</td>\n",
       "      <td>2005. 9. 22</td>\n",
       "      <td>Sep 22, 2005</td>\n",
       "      <td>1</td>\n",
       "      <td>05/06</td>\n",
       "      <td>0</td>\n",
       "      <td>Athletic Bilbao</td>\n",
       "      <td>8</td>\n",
       "      <td>7</td>\n",
       "      <td>...</td>\n",
       "      <td>1.0</td>\n",
       "      <td>0.0</td>\n",
       "      <td>0.0</td>\n",
       "      <td>0.0</td>\n",
       "      <td>1.0</td>\n",
       "      <td>3.0</td>\n",
       "      <td>not in squad</td>\n",
       "      <td>68.0</td>\n",
       "      <td>0.0</td>\n",
       "      <td>0.0</td>\n",
       "    </tr>\n",
       "    <tr>\n",
       "      <th>4</th>\n",
       "      <td>3</td>\n",
       "      <td>9</td>\n",
       "      <td>2005. 9. 25</td>\n",
       "      <td>Sep 25, 2005</td>\n",
       "      <td>1</td>\n",
       "      <td>05/06</td>\n",
       "      <td>1</td>\n",
       "      <td>Deportivo Alavés</td>\n",
       "      <td>25</td>\n",
       "      <td>20</td>\n",
       "      <td>...</td>\n",
       "      <td>0.0</td>\n",
       "      <td>0.0</td>\n",
       "      <td>3.0</td>\n",
       "      <td>0.0</td>\n",
       "      <td>1.0</td>\n",
       "      <td>1.0</td>\n",
       "      <td>CB</td>\n",
       "      <td>0.0</td>\n",
       "      <td>0.0</td>\n",
       "      <td>0.0</td>\n",
       "    </tr>\n",
       "  </tbody>\n",
       "</table>\n",
       "<p>5 rows × 26 columns</p>\n",
       "</div>"
      ],
      "text/plain": [
       "  Match Gap  Month         Date Date_Converted  MathType Season  HomeAway  \\\n",
       "0         -      9  2005. 9. 10   Sep 10, 2005         1  05/06         0   \n",
       "1         3      9  2005. 9. 13   Sep 13, 2005         0  05/06         1   \n",
       "2         5      9  2005. 9. 18   Sep 18, 2005         1  05/06         1   \n",
       "3         4      9  2005. 9. 22   Sep 22, 2005         1  05/06         0   \n",
       "4         3      9  2005. 9. 25   Sep 25, 2005         1  05/06         1   \n",
       "\n",
       "                Team_Name  Team  TeamRanking  ... GetGoal Results  \\\n",
       "0           Celta de Vigo    20            2  ...     3.0     2.0   \n",
       "1          Olympique Lyon    54            0  ...     3.0     2.0   \n",
       "2  RCD Espanyol Barcelona    60           12  ...     1.0     2.0   \n",
       "3         Athletic Bilbao     8            7  ...     1.0     0.0   \n",
       "4        Deportivo Alavés    25           20  ...     0.0     0.0   \n",
       "\n",
       "  PreScoreGoal PrePreScoreGoal PreGetGoal  PrePreGetGoal  Ramos_Position  \\\n",
       "0          NaN             NaN        NaN            NaN             NaN   \n",
       "1          NaN             NaN        NaN            NaN              CB   \n",
       "2          0.0             2.0        3.0            3.0              CB   \n",
       "3          0.0             0.0        1.0            3.0    not in squad   \n",
       "4          3.0             0.0        1.0            1.0              CB   \n",
       "\n",
       "   RamosTime  RamosGoal  RamosAss  \n",
       "0        NaN        NaN       NaN  \n",
       "1        NaN        NaN       NaN  \n",
       "2       90.0        0.0       0.0  \n",
       "3       68.0        0.0       0.0  \n",
       "4        0.0        0.0       0.0  \n",
       "\n",
       "[5 rows x 26 columns]"
      ]
     },
     "execution_count": 67,
     "metadata": {},
     "output_type": "execute_result"
    }
   ],
   "source": [
    "df.head()"
   ]
  },
  {
   "cell_type": "code",
   "execution_count": 68,
   "metadata": {},
   "outputs": [
    {
     "data": {
      "text/plain": [
       "Index(['Match Gap', 'Month', 'Date', 'Date_Converted', 'MathType', 'Season',\n",
       "       'HomeAway', 'Team_Name', 'Team', 'TeamRanking', 'Home', 'Home_Ranking',\n",
       "       'Away', 'Away_Ranking', 'FinalScore', 'ScoreGoal', 'GetGoal', 'Results',\n",
       "       'PreScoreGoal', 'PrePreScoreGoal', 'PreGetGoal', 'PrePreGetGoal',\n",
       "       'Ramos_Position', 'RamosTime', 'RamosGoal', 'RamosAss'],\n",
       "      dtype='object')"
      ]
     },
     "execution_count": 68,
     "metadata": {},
     "output_type": "execute_result"
    }
   ],
   "source": [
    "df.columns\n"
   ]
  },
  {
   "cell_type": "code",
   "execution_count": 69,
   "metadata": {},
   "outputs": [],
   "source": [
    "# 2017 e 2018\n",
    "\n",
    "df['Date'] = pd.to_datetime(df['Date'], format='%Y. %m. %d', errors='coerce') # errors 'coerce' faz com que os erros sejam ignorados\n",
    "filtro_2017_2018 = (df['Date'].dt.year >= 2017) & (df['Date'].dt.year <= 2018)\n",
    "df_filtrado_2017_2018 = df[filtro_2017_2018]\n",
    "# df_filtrado_2017_2018.head()"
   ]
  },
  {
   "cell_type": "code",
   "execution_count": 70,
   "metadata": {},
   "outputs": [
    {
     "name": "stdout",
     "output_type": "stream",
     "text": [
      "279.0\n",
      "115\n",
      "2.4260869565217393\n"
     ]
    }
   ],
   "source": [
    "df_filtrado_2017_2018['ScoreGoal'].head()\n",
    "# Gols marcados em 2017 e 2018\n",
    "gol_marcados = df_filtrado_2017_2018['ScoreGoal'].sum()\n",
    "print(gol_marcados)\n",
    "\n",
    "# Jogos em 2017 e 2018\n",
    "jogos = len(df_filtrado_2017_2018)\n",
    "print(jogos)\n",
    "\n",
    "# Média de gols por jogo\n",
    "mu_2017_2018 = gol_marcados/jogos\n",
    "print(mu_2017_2018)"
   ]
  },
  {
   "cell_type": "code",
   "execution_count": 73,
   "metadata": {},
   "outputs": [
    {
     "data": {
      "text/plain": [
       "array([3., 5., 3., 1., 1., 2., 2., 3., 3., 3., 2., 1., 3., 3., 4., 3., 2.,\n",
       "       2., 3., 4., 1., 2., 3., 4., 2., 6., 2., 3., 4., 1., 4., 4., 2., 4.,\n",
       "       3., 2., 1., 3., 3., 0., 2., 3., 2., 2., 1., 3., 2., 1., 1., 3., 0.,\n",
       "       6., 3., 2., 0., 3., 5., 0., 3., 2., 2., 0., 1., 7., 1., 4., 2., 5.,\n",
       "       3., 5., 3., 4., 0., 3., 2., 2., 6., 3., 3., 1., 1., 2., 1., 2., 2.,\n",
       "       2., 2., 2., 6., 2., 3., 2., 4., 4., 1., 3., 1., 0., 0., 0., 0., 1.,\n",
       "       2., 1., 4., 2., 5., 4., 0., 2., 2., 6., 1., 0., 1.])"
      ]
     },
     "execution_count": 73,
     "metadata": {},
     "output_type": "execute_result"
    }
   ],
   "source": [
    "array_gols_2017_2018 = df_filtrado_2017_2018['ScoreGoal'].values\n",
    "array_gols_2017_2018"
   ]
  },
  {
   "cell_type": "code",
   "execution_count": 71,
   "metadata": {},
   "outputs": [],
   "source": [
    "# 2019 e 2020\n",
    "\n",
    "df['Date'] = pd.to_datetime(df['Date'], format='%Y. %m. %d', errors='coerce') # errors 'coerce' faz com que os erros sejam ignorados\n",
    "filtro_2019_2020 = (df['Date'].dt.year >= 2019) & (df['Date'].dt.year <= 2020)\n",
    "df_filtrado_2019_2020 = df[filtro_2019_2020]\n",
    "# df_filtrado_2019_2020.head()"
   ]
  },
  {
   "cell_type": "code",
   "execution_count": 72,
   "metadata": {},
   "outputs": [
    {
     "name": "stdout",
     "output_type": "stream",
     "text": [
      "170.0\n",
      "90\n",
      "1.8888888888888888\n"
     ]
    }
   ],
   "source": [
    "df_filtrado_2019_2020['ScoreGoal'].head()\n",
    "# Gols marcados em 2019 e 2020\n",
    "gol_marcados = df_filtrado_2019_2020['ScoreGoal'].sum()\n",
    "print(gol_marcados)\n",
    "\n",
    "# Jogos em 2019 e 2020\n",
    "jogos = len(df_filtrado_2019_2020)\n",
    "print(jogos)\n",
    "\n",
    "# Média de gols por jogo\n",
    "mu_2019_2020 = gol_marcados/jogos\n",
    "print(mu_2019_2020)"
   ]
  },
  {
   "cell_type": "code",
   "execution_count": 75,
   "metadata": {},
   "outputs": [
    {
     "data": {
      "text/plain": [
       "array([2., 0., 3., 2., 0., 2., 4., 4., 3., 3., 1., 3., 2., 1., 2., 0., 0.,\n",
       "       1., 4., 2., 3., 1., 2., 1., 3., 0., 0., 3., 1., 0., 3., 1., 2., 3.,\n",
       "       0., 1., 2., 0., 2., 4., 0., 1., 5., 0., 6., 4., 3., 2., 2., 2., 3.,\n",
       "       1., 0., 0., 3., 2., 3., 1., 4., 1., 3., 4., 2., 0., 1., 2., 1., 3.,\n",
       "       3., 2., 2., 1., 1., 1., 2., 2., 2., 2., 1., 0., 3., 1., 2., 0., 2.,\n",
       "       3., 2., 4., 3., 1.])"
      ]
     },
     "execution_count": 75,
     "metadata": {},
     "output_type": "execute_result"
    }
   ],
   "source": [
    "array_gols_2019_2020 = df_filtrado_2019_2020['ScoreGoal'].values\n",
    "array_gols_2019_2020"
   ]
  },
  {
   "cell_type": "code",
   "execution_count": 78,
   "metadata": {},
   "outputs": [
    {
     "data": {
      "text/plain": [
       "TtestResult(statistic=2.656330861349889, pvalue=0.00853305792534437, df=201.22573551342091)"
      ]
     },
     "execution_count": 78,
     "metadata": {},
     "output_type": "execute_result"
    }
   ],
   "source": [
    "st.ttest_ind(array_gols_2017_2018, array_gols_2019_2020, equal_var=False) # equal_var=False pois as variâncias são diferentes\n",
    "\n",
    "# Desse modo, podemos rejeitar a hipótese nula de que mu_2017_2018 = mu_2019_2020, pois o p-valor (0.8%) é menor que 0.05 (5%)"
   ]
  }
 ],
 "metadata": {
  "kernelspec": {
   "display_name": "Python 3",
   "language": "python",
   "name": "python3"
  },
  "language_info": {
   "codemirror_mode": {
    "name": "ipython",
    "version": 3
   },
   "file_extension": ".py",
   "mimetype": "text/x-python",
   "name": "python",
   "nbconvert_exporter": "python",
   "pygments_lexer": "ipython3",
   "version": "3.10.9"
  }
 },
 "nbformat": 4,
 "nbformat_minor": 2
}
